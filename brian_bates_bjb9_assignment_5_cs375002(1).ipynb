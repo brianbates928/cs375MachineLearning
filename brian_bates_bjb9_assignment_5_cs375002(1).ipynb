{
  "nbformat": 4,
  "nbformat_minor": 0,
  "metadata": {
    "kernelspec": {
      "display_name": "Python 3",
      "language": "python",
      "name": "python3"
    },
    "language_info": {
      "codemirror_mode": {
        "name": "ipython",
        "version": 3
      },
      "file_extension": ".py",
      "mimetype": "text/x-python",
      "name": "python",
      "nbconvert_exporter": "python",
      "pygments_lexer": "ipython3",
      "version": "3.7.4"
    },
    "colab": {
      "provenance": []
    }
  },
  "cells": [
    {
      "cell_type": "markdown",
      "metadata": {
        "id": "Tajfsk_7JY3E"
      },
      "source": [
        "**Note to grader:** Each question is assigned with a score. The final score will be (sum of actual scores)/(sum of maximum scores)*100. The grading rubrics are shown in the TA guidelines."
      ]
    },
    {
      "cell_type": "code",
      "source": [
        "# Grader's area\n",
        "import numpy as np\n",
        "\n",
        "maxScore = 0\n"
      ],
      "metadata": {
        "id": "zPnHTf9MfT5X"
      },
      "execution_count": 2,
      "outputs": []
    },
    {
      "cell_type": "markdown",
      "metadata": {
        "id": "1NnOFlqPI1qn"
      },
      "source": [
        "# **Assignment 5**\n",
        "<br>\n",
        "\n",
        "<font>"
      ]
    },
    {
      "cell_type": "code",
      "metadata": {
        "id": "zSyX_FIzI1qn"
      },
      "source": [
        "from IPython.display import Math\n",
        "from IPython.display import Latex\n",
        "\n",
        "import numpy as np\n",
        "import os\n",
        "import struct\n",
        "\n",
        "from sklearn.metrics import classification_report,confusion_matrix\n",
        "from sklearn.neural_network import MLPClassifier"
      ],
      "execution_count": 3,
      "outputs": []
    },
    {
      "cell_type": "markdown",
      "source": [
        "----------------\n",
        "----------------\n",
        "----------------"
      ],
      "metadata": {
        "id": "cc6kqRYyliiK"
      }
    },
    {
      "cell_type": "markdown",
      "metadata": {
        "id": "aXayK-GxI1qo"
      },
      "source": [
        "## <font color='blue'> Question 0. MLP with scikit-learn: Explore outputs for the MNIST dataset [40 pts]</font>\n",
        "\n",
        "The purpose of this question is to get some practice time with MLP classifiers. We will be using the the MNIST data set.\n",
        "\n",
        "\n"
      ]
    },
    {
      "cell_type": "code",
      "metadata": {
        "id": "xscTgg2dI1qo",
        "colab": {
          "base_uri": "https://localhost:8080/"
        },
        "outputId": "93da64bd-2b6d-40c0-8a86-55c859f521b4"
      },
      "source": [
        "# Let's first load the MNIST data set.\n",
        "\n",
        "from sklearn.datasets import fetch_openml\n",
        "from sklearn.model_selection import train_test_split\n",
        "\n",
        "\n",
        "X, y = fetch_openml('mnist_784', version=1, return_X_y=True)\n",
        "y = y.astype(int)\n",
        "X = ((X / 255.) - .5) * 2\n",
        "X_train, X_test, y_train, y_test = train_test_split(\n",
        "    X, y, test_size=10000, random_state=123, stratify=y)\n"
      ],
      "execution_count": 4,
      "outputs": [
        {
          "output_type": "stream",
          "name": "stderr",
          "text": [
            "/usr/local/lib/python3.10/dist-packages/sklearn/datasets/_openml.py:968: FutureWarning: The default value of `parser` will change from `'liac-arff'` to `'auto'` in 1.4. You can set `parser='auto'` to silence this warning. Therefore, an `ImportError` will be raised from 1.4 if the dataset is dense and pandas is not installed. Note that the pandas parser may return different data types. See the Notes Section in fetch_openml's API doc for details.\n",
            "  warn(\n"
          ]
        }
      ]
    },
    {
      "cell_type": "markdown",
      "metadata": {
        "id": "uYAL83hpI1qp"
      },
      "source": [
        "<br> **Q0-0**: This is the classifier we built in class. Find a setting for *batch_size* and *max_iter*, so that the subsequent fit function **converges**. Converge here is defined as: the training loss does not improve by more than tol=1e-4 for n_iter_no_change=10 consecutive passes over the training set. [10 pts]\n",
        "\n",
        "\n",
        "\n"
      ]
    },
    {
      "cell_type": "code",
      "metadata": {
        "id": "6I39VdCmI1qp"
      },
      "source": [
        "\n",
        "mlp_mnist = MLPClassifier(verbose = True, hidden_layer_sizes=(50,), batch_size = 150, \\\n",
        "                          max_iter=1000, solver='sgd', activation='logistic',\\\n",
        "                          learning_rate = 'constant', learning_rate_init = 0.001, random_state=1)\n",
        "\n"
      ],
      "execution_count": 5,
      "outputs": []
    },
    {
      "cell_type": "code",
      "metadata": {
        "id": "Hv4XQEb-I1qp",
        "colab": {
          "base_uri": "https://localhost:8080/"
        },
        "outputId": "eb41f524-8615-4051-8abd-dab4debc6ceb"
      },
      "source": [
        "# Fit the model\n",
        "mlp_mnist.fit(X_train, y_train)\n",
        "\n",
        "# Get the loss curve\n",
        "loss_curve = mlp_mnist.loss_curve_\n",
        "\n",
        "# Initialize variables\n",
        "n_iter_no_change = 10\n",
        "tol = 1e-4\n",
        "no_improvement_count = 0\n",
        "\n",
        "# Check for convergence\n",
        "for i in range(1, len(loss_curve)):\n",
        "    # Calculate the difference between current loss and previous loss\n",
        "    loss_diff = loss_curve[i-1] - loss_curve[i]\n",
        "\n",
        "    # If the difference is less than the tolerance\n",
        "    if loss_diff < tol:\n",
        "        no_improvement_count += 1\n",
        "    else:\n",
        "        no_improvement_count = 0\n",
        "\n",
        "    # If no improvement for n_iter_no_change consecutive iterations, then it has converged\n",
        "    if no_improvement_count >= n_iter_no_change:\n",
        "        print(f\"The model has converged at iteration {i}\")\n",
        "        break"
      ],
      "execution_count": 6,
      "outputs": [
        {
          "output_type": "stream",
          "name": "stdout",
          "text": [
            "Iteration 1, loss = 2.03579884\n",
            "Iteration 2, loss = 1.52119642\n",
            "Iteration 3, loss = 1.15936386\n",
            "Iteration 4, loss = 0.93362604\n",
            "Iteration 5, loss = 0.78873279\n",
            "Iteration 6, loss = 0.69038101\n",
            "Iteration 7, loss = 0.62036665\n",
            "Iteration 8, loss = 0.56823691\n",
            "Iteration 9, loss = 0.52819096\n",
            "Iteration 10, loss = 0.49650924\n",
            "Iteration 11, loss = 0.47093555\n",
            "Iteration 12, loss = 0.44962928\n",
            "Iteration 13, loss = 0.43191411\n",
            "Iteration 14, loss = 0.41679350\n",
            "Iteration 15, loss = 0.40363286\n",
            "Iteration 16, loss = 0.39232438\n",
            "Iteration 17, loss = 0.38209999\n",
            "Iteration 18, loss = 0.37309803\n",
            "Iteration 19, loss = 0.36505994\n",
            "Iteration 20, loss = 0.35772369\n",
            "Iteration 21, loss = 0.35097184\n",
            "Iteration 22, loss = 0.34489513\n",
            "Iteration 23, loss = 0.33923360\n",
            "Iteration 24, loss = 0.33405509\n",
            "Iteration 25, loss = 0.32898299\n",
            "Iteration 26, loss = 0.32452258\n",
            "Iteration 27, loss = 0.32011973\n",
            "Iteration 28, loss = 0.31615649\n",
            "Iteration 29, loss = 0.31222310\n",
            "Iteration 30, loss = 0.30861018\n",
            "Iteration 31, loss = 0.30511421\n",
            "Iteration 32, loss = 0.30169115\n",
            "Iteration 33, loss = 0.29851311\n",
            "Iteration 34, loss = 0.29545778\n",
            "Iteration 35, loss = 0.29268728\n",
            "Iteration 36, loss = 0.28986228\n",
            "Iteration 37, loss = 0.28707105\n",
            "Iteration 38, loss = 0.28446990\n",
            "Iteration 39, loss = 0.28184309\n",
            "Iteration 40, loss = 0.27951782\n",
            "Iteration 41, loss = 0.27709364\n",
            "Iteration 42, loss = 0.27481078\n",
            "Iteration 43, loss = 0.27246096\n",
            "Iteration 44, loss = 0.27034984\n",
            "Iteration 45, loss = 0.26825476\n",
            "Iteration 46, loss = 0.26615141\n",
            "Iteration 47, loss = 0.26412428\n",
            "Iteration 48, loss = 0.26204481\n",
            "Iteration 49, loss = 0.26018330\n",
            "Iteration 50, loss = 0.25823753\n",
            "Iteration 51, loss = 0.25651671\n",
            "Iteration 52, loss = 0.25466405\n",
            "Iteration 53, loss = 0.25282950\n",
            "Iteration 54, loss = 0.25115814\n",
            "Iteration 55, loss = 0.24938833\n",
            "Iteration 56, loss = 0.24774801\n",
            "Iteration 57, loss = 0.24607964\n",
            "Iteration 58, loss = 0.24449856\n",
            "Iteration 59, loss = 0.24297553\n",
            "Iteration 60, loss = 0.24130105\n",
            "Iteration 61, loss = 0.23985023\n",
            "Iteration 62, loss = 0.23835592\n",
            "Iteration 63, loss = 0.23695465\n",
            "Iteration 64, loss = 0.23535247\n",
            "Iteration 65, loss = 0.23394429\n",
            "Iteration 66, loss = 0.23262982\n",
            "Iteration 67, loss = 0.23121215\n",
            "Iteration 68, loss = 0.22993851\n",
            "Iteration 69, loss = 0.22858715\n",
            "Iteration 70, loss = 0.22722561\n",
            "Iteration 71, loss = 0.22590703\n",
            "Iteration 72, loss = 0.22465109\n",
            "Iteration 73, loss = 0.22337458\n",
            "Iteration 74, loss = 0.22219123\n",
            "Iteration 75, loss = 0.22091593\n",
            "Iteration 76, loss = 0.21971944\n",
            "Iteration 77, loss = 0.21849390\n",
            "Iteration 78, loss = 0.21727299\n",
            "Iteration 79, loss = 0.21614095\n",
            "Iteration 80, loss = 0.21508482\n",
            "Iteration 81, loss = 0.21386285\n",
            "Iteration 82, loss = 0.21279386\n",
            "Iteration 83, loss = 0.21168430\n",
            "Iteration 84, loss = 0.21055520\n",
            "Iteration 85, loss = 0.20956204\n",
            "Iteration 86, loss = 0.20839554\n",
            "Iteration 87, loss = 0.20739720\n",
            "Iteration 88, loss = 0.20636990\n",
            "Iteration 89, loss = 0.20526230\n",
            "Iteration 90, loss = 0.20430473\n",
            "Iteration 91, loss = 0.20332874\n",
            "Iteration 92, loss = 0.20230606\n",
            "Iteration 93, loss = 0.20130121\n",
            "Iteration 94, loss = 0.20049295\n",
            "Iteration 95, loss = 0.19940014\n",
            "Iteration 96, loss = 0.19853295\n",
            "Iteration 97, loss = 0.19757036\n",
            "Iteration 98, loss = 0.19660762\n",
            "Iteration 99, loss = 0.19570625\n",
            "Iteration 100, loss = 0.19483889\n",
            "Iteration 101, loss = 0.19388110\n",
            "Iteration 102, loss = 0.19302764\n",
            "Iteration 103, loss = 0.19206832\n",
            "Iteration 104, loss = 0.19129622\n",
            "Iteration 105, loss = 0.19038267\n",
            "Iteration 106, loss = 0.18960982\n",
            "Iteration 107, loss = 0.18878621\n",
            "Iteration 108, loss = 0.18790875\n",
            "Iteration 109, loss = 0.18703945\n",
            "Iteration 110, loss = 0.18628036\n",
            "Iteration 111, loss = 0.18546503\n",
            "Iteration 112, loss = 0.18461186\n",
            "Iteration 113, loss = 0.18388274\n",
            "Iteration 114, loss = 0.18309138\n",
            "Iteration 115, loss = 0.18228370\n",
            "Iteration 116, loss = 0.18153383\n",
            "Iteration 117, loss = 0.18071193\n",
            "Iteration 118, loss = 0.18010304\n",
            "Iteration 119, loss = 0.17928098\n",
            "Iteration 120, loss = 0.17854483\n",
            "Iteration 121, loss = 0.17783487\n",
            "Iteration 122, loss = 0.17712059\n",
            "Iteration 123, loss = 0.17633428\n",
            "Iteration 124, loss = 0.17569528\n",
            "Iteration 125, loss = 0.17496186\n",
            "Iteration 126, loss = 0.17429208\n",
            "Iteration 127, loss = 0.17363631\n",
            "Iteration 128, loss = 0.17291933\n",
            "Iteration 129, loss = 0.17219131\n",
            "Iteration 130, loss = 0.17153825\n",
            "Iteration 131, loss = 0.17088021\n",
            "Iteration 132, loss = 0.17021668\n",
            "Iteration 133, loss = 0.16957062\n",
            "Iteration 134, loss = 0.16894018\n",
            "Iteration 135, loss = 0.16818788\n",
            "Iteration 136, loss = 0.16762460\n",
            "Iteration 137, loss = 0.16698264\n",
            "Iteration 138, loss = 0.16640661\n",
            "Iteration 139, loss = 0.16573548\n",
            "Iteration 140, loss = 0.16511037\n",
            "Iteration 141, loss = 0.16450811\n",
            "Iteration 142, loss = 0.16397917\n",
            "Iteration 143, loss = 0.16329249\n",
            "Iteration 144, loss = 0.16278779\n",
            "Iteration 145, loss = 0.16218097\n",
            "Iteration 146, loss = 0.16158077\n",
            "Iteration 147, loss = 0.16103451\n",
            "Iteration 148, loss = 0.16040481\n",
            "Iteration 149, loss = 0.15987151\n",
            "Iteration 150, loss = 0.15930604\n",
            "Iteration 151, loss = 0.15878205\n",
            "Iteration 152, loss = 0.15818741\n",
            "Iteration 153, loss = 0.15756844\n",
            "Iteration 154, loss = 0.15714808\n",
            "Iteration 155, loss = 0.15656736\n",
            "Iteration 156, loss = 0.15599004\n",
            "Iteration 157, loss = 0.15545602\n",
            "Iteration 158, loss = 0.15494676\n",
            "Iteration 159, loss = 0.15448862\n",
            "Iteration 160, loss = 0.15387710\n",
            "Iteration 161, loss = 0.15335892\n",
            "Iteration 162, loss = 0.15283702\n",
            "Iteration 163, loss = 0.15239848\n",
            "Iteration 164, loss = 0.15184796\n",
            "Iteration 165, loss = 0.15133875\n",
            "Iteration 166, loss = 0.15088540\n",
            "Iteration 167, loss = 0.15038636\n",
            "Iteration 168, loss = 0.14987441\n",
            "Iteration 169, loss = 0.14941993\n",
            "Iteration 170, loss = 0.14890398\n",
            "Iteration 171, loss = 0.14847450\n",
            "Iteration 172, loss = 0.14795176\n",
            "Iteration 173, loss = 0.14751805\n",
            "Iteration 174, loss = 0.14701934\n",
            "Iteration 175, loss = 0.14657493\n",
            "Iteration 176, loss = 0.14613763\n",
            "Iteration 177, loss = 0.14567413\n",
            "Iteration 178, loss = 0.14514145\n",
            "Iteration 179, loss = 0.14475658\n",
            "Iteration 180, loss = 0.14429242\n",
            "Iteration 181, loss = 0.14388617\n",
            "Iteration 182, loss = 0.14338571\n",
            "Iteration 183, loss = 0.14292094\n",
            "Iteration 184, loss = 0.14252898\n",
            "Iteration 185, loss = 0.14209209\n",
            "Iteration 186, loss = 0.14172644\n",
            "Iteration 187, loss = 0.14130714\n",
            "Iteration 188, loss = 0.14084175\n",
            "Iteration 189, loss = 0.14042539\n",
            "Iteration 190, loss = 0.13996172\n",
            "Iteration 191, loss = 0.13957629\n",
            "Iteration 192, loss = 0.13915962\n",
            "Iteration 193, loss = 0.13872373\n",
            "Iteration 194, loss = 0.13842904\n",
            "Iteration 195, loss = 0.13796927\n",
            "Iteration 196, loss = 0.13756691\n",
            "Iteration 197, loss = 0.13718271\n",
            "Iteration 198, loss = 0.13676851\n",
            "Iteration 199, loss = 0.13645339\n",
            "Iteration 200, loss = 0.13597436\n",
            "Iteration 201, loss = 0.13562971\n",
            "Iteration 202, loss = 0.13523758\n",
            "Iteration 203, loss = 0.13488026\n",
            "Iteration 204, loss = 0.13446608\n",
            "Iteration 205, loss = 0.13406293\n",
            "Iteration 206, loss = 0.13372875\n",
            "Iteration 207, loss = 0.13338574\n",
            "Iteration 208, loss = 0.13299224\n",
            "Iteration 209, loss = 0.13259716\n",
            "Iteration 210, loss = 0.13224592\n",
            "Iteration 211, loss = 0.13186976\n",
            "Iteration 212, loss = 0.13153315\n",
            "Iteration 213, loss = 0.13119273\n",
            "Iteration 214, loss = 0.13082541\n",
            "Iteration 215, loss = 0.13048886\n",
            "Iteration 216, loss = 0.13008920\n",
            "Iteration 217, loss = 0.12978929\n",
            "Iteration 218, loss = 0.12944837\n",
            "Iteration 219, loss = 0.12907386\n",
            "Iteration 220, loss = 0.12878270\n",
            "Iteration 221, loss = 0.12841947\n",
            "Iteration 222, loss = 0.12804492\n",
            "Iteration 223, loss = 0.12772058\n",
            "Iteration 224, loss = 0.12744030\n",
            "Iteration 225, loss = 0.12708976\n",
            "Iteration 226, loss = 0.12674031\n",
            "Iteration 227, loss = 0.12638111\n",
            "Iteration 228, loss = 0.12609937\n",
            "Iteration 229, loss = 0.12572524\n",
            "Iteration 230, loss = 0.12547452\n",
            "Iteration 231, loss = 0.12508947\n",
            "Iteration 232, loss = 0.12480134\n",
            "Iteration 233, loss = 0.12442276\n",
            "Iteration 234, loss = 0.12416531\n",
            "Iteration 235, loss = 0.12385883\n",
            "Iteration 236, loss = 0.12354625\n",
            "Iteration 237, loss = 0.12323596\n",
            "Iteration 238, loss = 0.12292410\n",
            "Iteration 239, loss = 0.12262752\n",
            "Iteration 240, loss = 0.12229067\n",
            "Iteration 241, loss = 0.12201293\n",
            "Iteration 242, loss = 0.12170172\n",
            "Iteration 243, loss = 0.12139978\n",
            "Iteration 244, loss = 0.12104551\n",
            "Iteration 245, loss = 0.12080995\n",
            "Iteration 246, loss = 0.12051414\n",
            "Iteration 247, loss = 0.12023853\n",
            "Iteration 248, loss = 0.11994643\n",
            "Iteration 249, loss = 0.11963918\n",
            "Iteration 250, loss = 0.11932870\n",
            "Iteration 251, loss = 0.11908730\n",
            "Iteration 252, loss = 0.11878313\n",
            "Iteration 253, loss = 0.11855465\n",
            "Iteration 254, loss = 0.11824980\n",
            "Iteration 255, loss = 0.11795185\n",
            "Iteration 256, loss = 0.11769749\n",
            "Iteration 257, loss = 0.11741184\n",
            "Iteration 258, loss = 0.11713045\n",
            "Iteration 259, loss = 0.11685321\n",
            "Iteration 260, loss = 0.11653944\n",
            "Iteration 261, loss = 0.11631028\n",
            "Iteration 262, loss = 0.11600214\n",
            "Iteration 263, loss = 0.11574278\n",
            "Iteration 264, loss = 0.11548875\n",
            "Iteration 265, loss = 0.11528643\n",
            "Iteration 266, loss = 0.11494665\n",
            "Iteration 267, loss = 0.11470027\n",
            "Iteration 268, loss = 0.11441682\n",
            "Iteration 269, loss = 0.11419934\n",
            "Iteration 270, loss = 0.11389600\n",
            "Iteration 271, loss = 0.11355474\n",
            "Iteration 272, loss = 0.11341258\n",
            "Iteration 273, loss = 0.11314040\n",
            "Iteration 274, loss = 0.11290975\n",
            "Iteration 275, loss = 0.11265850\n",
            "Iteration 276, loss = 0.11243384\n",
            "Iteration 277, loss = 0.11212684\n",
            "Iteration 278, loss = 0.11191395\n",
            "Iteration 279, loss = 0.11163622\n",
            "Iteration 280, loss = 0.11137850\n",
            "Iteration 281, loss = 0.11118641\n",
            "Iteration 282, loss = 0.11090154\n",
            "Iteration 283, loss = 0.11069274\n",
            "Iteration 284, loss = 0.11041763\n",
            "Iteration 285, loss = 0.11022996\n",
            "Iteration 286, loss = 0.10997519\n",
            "Iteration 287, loss = 0.10969450\n",
            "Iteration 288, loss = 0.10941983\n",
            "Iteration 289, loss = 0.10923184\n",
            "Iteration 290, loss = 0.10902234\n",
            "Iteration 291, loss = 0.10876876\n",
            "Iteration 292, loss = 0.10852981\n",
            "Iteration 293, loss = 0.10829571\n",
            "Iteration 294, loss = 0.10810167\n",
            "Iteration 295, loss = 0.10782297\n",
            "Iteration 296, loss = 0.10762223\n",
            "Iteration 297, loss = 0.10742884\n",
            "Iteration 298, loss = 0.10715831\n",
            "Iteration 299, loss = 0.10693981\n",
            "Iteration 300, loss = 0.10669800\n",
            "Iteration 301, loss = 0.10650969\n",
            "Iteration 302, loss = 0.10630787\n",
            "Iteration 303, loss = 0.10604302\n",
            "Iteration 304, loss = 0.10584457\n",
            "Iteration 305, loss = 0.10564202\n",
            "Iteration 306, loss = 0.10538276\n",
            "Iteration 307, loss = 0.10512865\n",
            "Iteration 308, loss = 0.10496965\n",
            "Iteration 309, loss = 0.10475516\n",
            "Iteration 310, loss = 0.10455941\n",
            "Iteration 311, loss = 0.10428294\n",
            "Iteration 312, loss = 0.10410412\n",
            "Iteration 313, loss = 0.10387846\n",
            "Iteration 314, loss = 0.10365015\n",
            "Iteration 315, loss = 0.10347958\n",
            "Iteration 316, loss = 0.10326070\n",
            "Iteration 317, loss = 0.10300922\n",
            "Iteration 318, loss = 0.10279632\n",
            "Iteration 319, loss = 0.10266632\n",
            "Iteration 320, loss = 0.10243293\n",
            "Iteration 321, loss = 0.10226678\n",
            "Iteration 322, loss = 0.10201718\n",
            "Iteration 323, loss = 0.10178192\n",
            "Iteration 324, loss = 0.10161705\n",
            "Iteration 325, loss = 0.10143931\n",
            "Iteration 326, loss = 0.10121076\n",
            "Iteration 327, loss = 0.10100834\n",
            "Iteration 328, loss = 0.10081167\n",
            "Iteration 329, loss = 0.10061511\n",
            "Iteration 330, loss = 0.10043500\n",
            "Iteration 331, loss = 0.10024697\n",
            "Iteration 332, loss = 0.10001203\n",
            "Iteration 333, loss = 0.09984272\n",
            "Iteration 334, loss = 0.09965128\n",
            "Iteration 335, loss = 0.09943702\n",
            "Iteration 336, loss = 0.09929431\n",
            "Iteration 337, loss = 0.09911273\n",
            "Iteration 338, loss = 0.09888849\n",
            "Iteration 339, loss = 0.09868934\n",
            "Iteration 340, loss = 0.09852169\n",
            "Iteration 341, loss = 0.09832716\n",
            "Iteration 342, loss = 0.09811536\n",
            "Iteration 343, loss = 0.09796299\n",
            "Iteration 344, loss = 0.09775174\n",
            "Iteration 345, loss = 0.09762299\n",
            "Iteration 346, loss = 0.09735769\n",
            "Iteration 347, loss = 0.09719563\n",
            "Iteration 348, loss = 0.09702710\n",
            "Iteration 349, loss = 0.09685607\n",
            "Iteration 350, loss = 0.09669677\n",
            "Iteration 351, loss = 0.09646729\n",
            "Iteration 352, loss = 0.09626499\n",
            "Iteration 353, loss = 0.09612618\n",
            "Iteration 354, loss = 0.09592127\n",
            "Iteration 355, loss = 0.09579242\n",
            "Iteration 356, loss = 0.09553880\n",
            "Iteration 357, loss = 0.09540595\n",
            "Iteration 358, loss = 0.09525235\n",
            "Iteration 359, loss = 0.09510795\n",
            "Iteration 360, loss = 0.09484828\n",
            "Iteration 361, loss = 0.09471009\n",
            "Iteration 362, loss = 0.09456998\n",
            "Iteration 363, loss = 0.09436627\n",
            "Iteration 364, loss = 0.09420574\n",
            "Iteration 365, loss = 0.09404440\n",
            "Iteration 366, loss = 0.09385024\n",
            "Iteration 367, loss = 0.09372545\n",
            "Iteration 368, loss = 0.09350172\n",
            "Iteration 369, loss = 0.09336877\n",
            "Iteration 370, loss = 0.09320560\n",
            "Iteration 371, loss = 0.09302651\n",
            "Iteration 372, loss = 0.09291679\n",
            "Iteration 373, loss = 0.09270875\n",
            "Iteration 374, loss = 0.09250628\n",
            "Iteration 375, loss = 0.09240407\n",
            "Iteration 376, loss = 0.09217825\n",
            "Iteration 377, loss = 0.09203375\n",
            "Iteration 378, loss = 0.09188064\n",
            "Iteration 379, loss = 0.09175867\n",
            "Iteration 380, loss = 0.09151756\n",
            "Iteration 381, loss = 0.09138809\n",
            "Iteration 382, loss = 0.09121660\n",
            "Iteration 383, loss = 0.09110109\n",
            "Iteration 384, loss = 0.09092113\n",
            "Iteration 385, loss = 0.09072702\n",
            "Iteration 386, loss = 0.09059918\n",
            "Iteration 387, loss = 0.09046259\n",
            "Iteration 388, loss = 0.09025764\n",
            "Iteration 389, loss = 0.09012042\n",
            "Iteration 390, loss = 0.08998552\n",
            "Iteration 391, loss = 0.08982299\n",
            "Iteration 392, loss = 0.08970933\n",
            "Iteration 393, loss = 0.08949844\n",
            "Iteration 394, loss = 0.08938336\n",
            "Iteration 395, loss = 0.08921336\n",
            "Iteration 396, loss = 0.08903242\n",
            "Iteration 397, loss = 0.08890656\n",
            "Iteration 398, loss = 0.08876026\n",
            "Iteration 399, loss = 0.08857260\n",
            "Iteration 400, loss = 0.08842691\n",
            "Iteration 401, loss = 0.08825340\n",
            "Iteration 402, loss = 0.08817275\n",
            "Iteration 403, loss = 0.08802853\n",
            "Iteration 404, loss = 0.08785018\n",
            "Iteration 405, loss = 0.08770056\n",
            "Iteration 406, loss = 0.08757846\n",
            "Iteration 407, loss = 0.08741847\n",
            "Iteration 408, loss = 0.08724397\n",
            "Iteration 409, loss = 0.08712822\n",
            "Iteration 410, loss = 0.08700501\n",
            "Iteration 411, loss = 0.08684886\n",
            "Iteration 412, loss = 0.08669503\n",
            "Iteration 413, loss = 0.08656506\n",
            "Iteration 414, loss = 0.08641733\n",
            "Iteration 415, loss = 0.08626403\n",
            "Iteration 416, loss = 0.08613287\n",
            "Iteration 417, loss = 0.08598229\n",
            "Iteration 418, loss = 0.08578987\n",
            "Iteration 419, loss = 0.08573403\n",
            "Iteration 420, loss = 0.08556029\n",
            "Iteration 421, loss = 0.08541492\n",
            "Iteration 422, loss = 0.08529567\n",
            "Iteration 423, loss = 0.08519175\n",
            "Iteration 424, loss = 0.08498577\n",
            "Iteration 425, loss = 0.08487367\n",
            "Iteration 426, loss = 0.08472802\n",
            "Iteration 427, loss = 0.08459629\n",
            "Iteration 428, loss = 0.08443046\n",
            "Iteration 429, loss = 0.08436699\n",
            "Iteration 430, loss = 0.08419958\n",
            "Iteration 431, loss = 0.08403311\n",
            "Iteration 432, loss = 0.08391792\n",
            "Iteration 433, loss = 0.08381370\n",
            "Iteration 434, loss = 0.08362453\n",
            "Iteration 435, loss = 0.08353839\n",
            "Iteration 436, loss = 0.08340330\n",
            "Iteration 437, loss = 0.08327701\n",
            "Iteration 438, loss = 0.08313180\n",
            "Iteration 439, loss = 0.08300577\n",
            "Iteration 440, loss = 0.08286500\n",
            "Iteration 441, loss = 0.08270759\n",
            "Iteration 442, loss = 0.08260415\n",
            "Iteration 443, loss = 0.08246132\n",
            "Iteration 444, loss = 0.08238907\n",
            "Iteration 445, loss = 0.08216006\n",
            "Iteration 446, loss = 0.08209407\n",
            "Iteration 447, loss = 0.08196142\n",
            "Iteration 448, loss = 0.08184865\n",
            "Iteration 449, loss = 0.08167397\n",
            "Iteration 450, loss = 0.08157511\n",
            "Iteration 451, loss = 0.08144760\n",
            "Iteration 452, loss = 0.08128547\n",
            "Iteration 453, loss = 0.08114947\n",
            "Iteration 454, loss = 0.08106937\n",
            "Iteration 455, loss = 0.08095512\n",
            "Iteration 456, loss = 0.08083389\n",
            "Iteration 457, loss = 0.08068738\n",
            "Iteration 458, loss = 0.08059254\n",
            "Iteration 459, loss = 0.08048656\n",
            "Iteration 460, loss = 0.08032490\n",
            "Iteration 461, loss = 0.08026378\n",
            "Iteration 462, loss = 0.08007976\n",
            "Iteration 463, loss = 0.08001054\n",
            "Iteration 464, loss = 0.07985671\n",
            "Iteration 465, loss = 0.07972811\n",
            "Iteration 466, loss = 0.07965963\n",
            "Iteration 467, loss = 0.07946770\n",
            "Iteration 468, loss = 0.07939906\n",
            "Iteration 469, loss = 0.07923981\n",
            "Iteration 470, loss = 0.07911660\n",
            "Iteration 471, loss = 0.07901564\n",
            "Iteration 472, loss = 0.07892600\n",
            "Iteration 473, loss = 0.07880659\n",
            "Iteration 474, loss = 0.07865342\n",
            "Iteration 475, loss = 0.07852146\n",
            "Iteration 476, loss = 0.07843399\n",
            "Iteration 477, loss = 0.07829134\n",
            "Iteration 478, loss = 0.07820051\n",
            "Iteration 479, loss = 0.07809916\n",
            "Iteration 480, loss = 0.07797258\n",
            "Iteration 481, loss = 0.07785128\n",
            "Iteration 482, loss = 0.07774094\n",
            "Iteration 483, loss = 0.07762809\n",
            "Iteration 484, loss = 0.07752788\n",
            "Iteration 485, loss = 0.07740945\n",
            "Iteration 486, loss = 0.07727775\n",
            "Iteration 487, loss = 0.07725782\n",
            "Iteration 488, loss = 0.07705871\n",
            "Iteration 489, loss = 0.07695110\n",
            "Iteration 490, loss = 0.07682980\n",
            "Iteration 491, loss = 0.07675106\n",
            "Iteration 492, loss = 0.07659453\n",
            "Iteration 493, loss = 0.07647887\n",
            "Iteration 494, loss = 0.07638737\n",
            "Iteration 495, loss = 0.07629493\n",
            "Iteration 496, loss = 0.07616135\n",
            "Iteration 497, loss = 0.07605446\n",
            "Iteration 498, loss = 0.07600097\n",
            "Iteration 499, loss = 0.07583563\n",
            "Iteration 500, loss = 0.07572503\n",
            "Iteration 501, loss = 0.07564385\n",
            "Iteration 502, loss = 0.07553014\n",
            "Iteration 503, loss = 0.07542965\n",
            "Iteration 504, loss = 0.07530475\n",
            "Iteration 505, loss = 0.07521329\n",
            "Iteration 506, loss = 0.07507823\n",
            "Iteration 507, loss = 0.07499394\n",
            "Iteration 508, loss = 0.07486312\n",
            "Iteration 509, loss = 0.07477149\n",
            "Iteration 510, loss = 0.07464337\n",
            "Iteration 511, loss = 0.07452040\n",
            "Iteration 512, loss = 0.07449486\n",
            "Iteration 513, loss = 0.07436025\n",
            "Iteration 514, loss = 0.07424785\n",
            "Iteration 515, loss = 0.07416128\n",
            "Iteration 516, loss = 0.07403816\n",
            "Iteration 517, loss = 0.07395681\n",
            "Iteration 518, loss = 0.07385108\n",
            "Iteration 519, loss = 0.07373311\n",
            "Iteration 520, loss = 0.07364604\n",
            "Iteration 521, loss = 0.07353200\n",
            "Iteration 522, loss = 0.07340271\n",
            "Iteration 523, loss = 0.07335851\n",
            "Iteration 524, loss = 0.07323138\n",
            "Iteration 525, loss = 0.07315297\n",
            "Iteration 526, loss = 0.07305466\n",
            "Iteration 527, loss = 0.07291077\n",
            "Iteration 528, loss = 0.07284328\n",
            "Iteration 529, loss = 0.07273967\n",
            "Iteration 530, loss = 0.07262759\n",
            "Iteration 531, loss = 0.07248963\n",
            "Iteration 532, loss = 0.07245681\n",
            "Iteration 533, loss = 0.07230194\n",
            "Iteration 534, loss = 0.07224809\n",
            "Iteration 535, loss = 0.07214944\n",
            "Iteration 536, loss = 0.07204956\n",
            "Iteration 537, loss = 0.07197644\n",
            "Iteration 538, loss = 0.07184820\n",
            "Iteration 539, loss = 0.07171599\n",
            "Iteration 540, loss = 0.07161225\n",
            "Iteration 541, loss = 0.07152736\n",
            "Iteration 542, loss = 0.07147013\n",
            "Iteration 543, loss = 0.07135584\n",
            "Iteration 544, loss = 0.07126673\n",
            "Iteration 545, loss = 0.07117748\n",
            "Iteration 546, loss = 0.07106233\n",
            "Iteration 547, loss = 0.07103003\n",
            "Iteration 548, loss = 0.07088641\n",
            "Iteration 549, loss = 0.07080068\n",
            "Iteration 550, loss = 0.07069083\n",
            "Iteration 551, loss = 0.07061769\n",
            "Iteration 552, loss = 0.07049086\n",
            "Iteration 553, loss = 0.07043420\n",
            "Iteration 554, loss = 0.07031022\n",
            "Iteration 555, loss = 0.07023298\n",
            "Iteration 556, loss = 0.07011883\n",
            "Iteration 557, loss = 0.07004662\n",
            "Iteration 558, loss = 0.06994156\n",
            "Iteration 559, loss = 0.06985007\n",
            "Iteration 560, loss = 0.06976380\n",
            "Iteration 561, loss = 0.06968589\n",
            "Iteration 562, loss = 0.06956346\n",
            "Iteration 563, loss = 0.06950210\n",
            "Iteration 564, loss = 0.06939679\n",
            "Iteration 565, loss = 0.06928781\n",
            "Iteration 566, loss = 0.06920513\n",
            "Iteration 567, loss = 0.06912868\n",
            "Iteration 568, loss = 0.06901852\n",
            "Iteration 569, loss = 0.06894627\n",
            "Iteration 570, loss = 0.06883793\n",
            "Iteration 571, loss = 0.06871725\n",
            "Iteration 572, loss = 0.06866476\n",
            "Iteration 573, loss = 0.06859882\n",
            "Iteration 574, loss = 0.06847337\n",
            "Iteration 575, loss = 0.06839360\n",
            "Iteration 576, loss = 0.06832811\n",
            "Iteration 577, loss = 0.06824681\n",
            "Iteration 578, loss = 0.06808775\n",
            "Iteration 579, loss = 0.06803532\n",
            "Iteration 580, loss = 0.06797155\n",
            "Iteration 581, loss = 0.06786704\n",
            "Iteration 582, loss = 0.06778339\n",
            "Iteration 583, loss = 0.06770944\n",
            "Iteration 584, loss = 0.06762148\n",
            "Iteration 585, loss = 0.06754465\n",
            "Iteration 586, loss = 0.06746129\n",
            "Iteration 587, loss = 0.06737806\n",
            "Iteration 588, loss = 0.06726513\n",
            "Iteration 589, loss = 0.06721562\n",
            "Iteration 590, loss = 0.06710992\n",
            "Iteration 591, loss = 0.06702468\n",
            "Iteration 592, loss = 0.06692423\n",
            "Iteration 593, loss = 0.06685468\n",
            "Iteration 594, loss = 0.06675822\n",
            "Iteration 595, loss = 0.06667977\n",
            "Iteration 596, loss = 0.06660389\n",
            "Iteration 597, loss = 0.06652581\n",
            "Iteration 598, loss = 0.06638496\n",
            "Iteration 599, loss = 0.06635890\n",
            "Iteration 600, loss = 0.06624747\n",
            "Iteration 601, loss = 0.06617644\n",
            "Iteration 602, loss = 0.06610214\n",
            "Iteration 603, loss = 0.06600451\n",
            "Iteration 604, loss = 0.06590198\n",
            "Iteration 605, loss = 0.06587312\n",
            "Iteration 606, loss = 0.06578706\n",
            "Iteration 607, loss = 0.06568253\n",
            "Iteration 608, loss = 0.06560049\n",
            "Iteration 609, loss = 0.06551856\n",
            "Iteration 610, loss = 0.06541145\n",
            "Iteration 611, loss = 0.06534503\n",
            "Iteration 612, loss = 0.06530109\n",
            "Iteration 613, loss = 0.06516887\n",
            "Iteration 614, loss = 0.06512587\n",
            "Iteration 615, loss = 0.06502188\n",
            "Iteration 616, loss = 0.06490821\n",
            "Iteration 617, loss = 0.06488906\n",
            "Iteration 618, loss = 0.06478700\n",
            "Iteration 619, loss = 0.06470135\n",
            "Iteration 620, loss = 0.06456056\n",
            "Iteration 621, loss = 0.06458175\n",
            "Iteration 622, loss = 0.06446389\n",
            "Iteration 623, loss = 0.06437919\n",
            "Iteration 624, loss = 0.06430144\n",
            "Iteration 625, loss = 0.06424273\n",
            "Iteration 626, loss = 0.06413294\n",
            "Iteration 627, loss = 0.06406712\n",
            "Iteration 628, loss = 0.06398635\n",
            "Iteration 629, loss = 0.06390215\n",
            "Iteration 630, loss = 0.06381243\n",
            "Iteration 631, loss = 0.06371814\n",
            "Iteration 632, loss = 0.06367042\n",
            "Iteration 633, loss = 0.06360416\n",
            "Iteration 634, loss = 0.06354751\n",
            "Iteration 635, loss = 0.06343496\n",
            "Iteration 636, loss = 0.06340268\n",
            "Iteration 637, loss = 0.06328847\n",
            "Iteration 638, loss = 0.06322248\n",
            "Iteration 639, loss = 0.06316650\n",
            "Iteration 640, loss = 0.06307572\n",
            "Iteration 641, loss = 0.06299911\n",
            "Iteration 642, loss = 0.06295229\n",
            "Iteration 643, loss = 0.06282729\n",
            "Iteration 644, loss = 0.06277712\n",
            "Iteration 645, loss = 0.06272600\n",
            "Iteration 646, loss = 0.06260839\n",
            "Iteration 647, loss = 0.06255297\n",
            "Iteration 648, loss = 0.06248201\n",
            "Iteration 649, loss = 0.06236290\n",
            "Iteration 650, loss = 0.06232410\n",
            "Iteration 651, loss = 0.06226039\n",
            "Iteration 652, loss = 0.06214001\n",
            "Iteration 653, loss = 0.06208408\n",
            "Iteration 654, loss = 0.06200549\n",
            "Iteration 655, loss = 0.06194560\n",
            "Iteration 656, loss = 0.06185884\n",
            "Iteration 657, loss = 0.06182092\n",
            "Iteration 658, loss = 0.06172634\n",
            "Iteration 659, loss = 0.06166561\n",
            "Iteration 660, loss = 0.06157348\n",
            "Iteration 661, loss = 0.06149193\n",
            "Iteration 662, loss = 0.06141165\n",
            "Iteration 663, loss = 0.06140597\n",
            "Training loss did not improve more than tol=0.000100 for 10 consecutive epochs. Stopping.\n",
            "The model has converged at iteration 661\n"
          ]
        }
      ]
    },
    {
      "cell_type": "code",
      "metadata": {
        "id": "mDpqVYN1I1qq"
      },
      "source": [
        "predictions = mlp_mnist.predict(X_test)\n",
        "probability_predictions = mlp_mnist.predict_proba(X_test)"
      ],
      "execution_count": 7,
      "outputs": []
    },
    {
      "cell_type": "markdown",
      "metadata": {
        "id": "qaKRY5l7I1qq"
      },
      "source": [
        "**Q0-1**: Write a short function that outputs the **second best** prediction for each point, i.e. the label which gets the second highest probability in the softmax output. [10 pts]"
      ]
    },
    {
      "cell_type": "code",
      "metadata": {
        "id": "d3ZqtfJTI1qq",
        "colab": {
          "base_uri": "https://localhost:8080/"
        },
        "outputId": "2181b331-6e72-43b1-fc8c-2531488c2abe"
      },
      "source": [
        "def second_best_predictions(proba_predictions):\n",
        "    # Use argsort to get sorted indices and then take second last element along axis 1\n",
        "    second_best_pred_indices = np.argsort(proba_predictions, axis=1)[:,-2]\n",
        "    return second_best_pred_indices\n",
        "\n",
        "# Get the second best predictions\n",
        "second_best_preds = second_best_predictions(probability_predictions)\n",
        "print(second_best_preds)"
      ],
      "execution_count": 8,
      "outputs": [
        {
          "output_type": "stream",
          "name": "stdout",
          "text": [
            "[5 4 0 ... 3 2 3]\n"
          ]
        }
      ]
    },
    {
      "cell_type": "markdown",
      "metadata": {
        "id": "J7bbDT1CI1qq"
      },
      "source": [
        "**Q0-2**: For each data point misclassified by the model, find if the second best prediction is actually the correct label. Calculate the percentage of missclassified points, that are correctly classified based on the second best prediction. [10 pts]"
      ]
    },
    {
      "cell_type": "code",
      "metadata": {
        "id": "CVEQ7pLPI1qq",
        "colab": {
          "base_uri": "https://localhost:8080/"
        },
        "outputId": "69d568b8-6255-4458-d125-53f3087aae9b"
      },
      "source": [
        "def calculate_percentage_correct_second_best(predictions, second_best_preds, y_test):\n",
        "    # Find the indices of the misclassified points\n",
        "    misclassified_indices = predictions != y_test\n",
        "\n",
        "    # Get the second best predictions and the true labels for the misclassified points\n",
        "    second_best_preds_misclassified = second_best_preds[misclassified_indices]\n",
        "    y_test_misclassified = y_test[misclassified_indices]\n",
        "\n",
        "    # Find where the second best prediction is the correct label\n",
        "    correct_second_best = second_best_preds_misclassified == y_test_misclassified\n",
        "\n",
        "    # Calculate the percentage of misclassified points that are correctly classified by the second best prediction\n",
        "    percentage_correct_second_best = correct_second_best.mean() * 100\n",
        "\n",
        "    return percentage_correct_second_best\n",
        "\n",
        "# Calculate the percentage\n",
        "percentage = calculate_percentage_correct_second_best(predictions, second_best_preds, y_test)\n",
        "print(f\"The percentage of misclassified points that are correctly classified based on the second best prediction is {percentage}%.\")\n",
        "# give comments on findings\n",
        "#This means that The finding that 66% of misclassified points are correctly classified based on the second best prediction suggests that the classifier is often “close” to the correct answer even when it makes a mistake.\n",
        "#the correct label is in the top two most likely labels according to the classifier. This could indicate that these misclassified images may have features that make them particularly difficult to classify like these is messy handwriting"
      ],
      "execution_count": 9,
      "outputs": [
        {
          "output_type": "stream",
          "name": "stdout",
          "text": [
            "The percentage of misclassified points that are correctly classified based on the second best prediction is 66.56441717791411%.\n"
          ]
        }
      ]
    },
    {
      "cell_type": "markdown",
      "metadata": {
        "id": "uPkG0fb2I1qq"
      },
      "source": [
        "**Q0-3**: From a human point of view, we can perhaps see a frequent similarity between handritten digits 3 and 5 (i.e. sometimes we have to pay closer attention to figure out what the true written digit is). We may want to ask if the MLP also detects digit similarities.  \n",
        "<br>\n",
        " Consider then the subset $X_i$ of data points that have label $i$ (e.g. all data points with label 5). For each label $j\\neq i$, report the frequency by which label $j$ (e.g. label 3) shows up as second best prediction for points in $X_i$. [10 pts]\n",
        "<br>\n",
        "<br>\n",
        "***Further Clarification***: Suppose we have 100 data points with label i=5. Let's say that for 28 of these 100 points, the second predicted label is j=3. Then, the frequency of j=3 as second-best prediction to i=5 is 28%.  We want to compute that frequency for every i and j.\n",
        "\n",
        "Example output:\n",
        "> i = 0: 986 (9.86%)\n",
        "\n",
        "  j = 1: 2 (0.203%)\n",
        "\n",
        "  j = 2: 248 (25.152%)\n",
        "\n",
        "  j = 3: 8 (0.811%)\n",
        "\n",
        "  j = 4: 4 (0.406%)\n",
        "\n",
        "  j = 5: 270 (27.383%)\n",
        "\n",
        "  j = 6: 188 (19.067%)\n",
        "\n",
        "  j = 7: 56 (5.68%)\n",
        "\n",
        "  j = 8: 52 (5.274%)\n",
        "\n",
        "  j = 9: 150 (15.213%)\n",
        "\n",
        "<br>  \n",
        " Give your code and comment on your findings"
      ]
    },
    {
      "cell_type": "code",
      "metadata": {
        "id": "ZL_sboa1I1qq",
        "colab": {
          "base_uri": "https://localhost:8080/"
        },
        "outputId": "84e63f21-bcda-4178-83ec-5dcb3f4e4421"
      },
      "source": [
        "### Your code here. Also give some comments about your findings\n",
        "def calculate_second_best_frequencies(y_test, second_best_preds):\n",
        "    # Initialize a dictionary to store the frequencies\n",
        "    frequencies = {}\n",
        "\n",
        "    # Loop over each unique label in y_test\n",
        "    for i in np.unique(y_test):\n",
        "        # Get the second best predictions for the current label\n",
        "        second_best_preds_i = second_best_preds[y_test == i]\n",
        "\n",
        "        # Calculate the frequency of each label in the second best predictions\n",
        "        frequencies_i = np.bincount(second_best_preds_i) / len(second_best_preds_i)\n",
        "\n",
        "        # Store the frequencies in the dictionary\n",
        "        frequencies[i] = frequencies_i\n",
        "\n",
        "    # Return the dictionary of frequencies\n",
        "    return frequencies\n",
        "\n",
        "# Calculate the frequencies\n",
        "frequencies = calculate_second_best_frequencies(y_test, second_best_preds)\n",
        "\n",
        "# Print the frequencies\n",
        "for i, frequencies_i in frequencies.items():\n",
        "    print(f\"i = {i}:\")\n",
        "    for j, frequency in enumerate(frequencies_i):\n",
        "        if j != i:\n",
        "            print(f\"  j = {j}: {frequency * 100:.3f}%\")\n",
        "\n",
        "\n",
        "\n",
        "\n",
        "#This can provide insights into which digits the model often confuses with each other.\n",
        "#for instance when the true label is 0, the second-best prediction is most frequently 5 (43.205%). This suggests that the model often confuses 0s and 5s.\n",
        "#for i=4 the highest frequently is 9 (58.359%). This suggests that the model often confuses 4s and 9s.\n",
        "#This shows the models confusing"
      ],
      "execution_count": 20,
      "outputs": [
        {
          "output_type": "stream",
          "name": "stdout",
          "text": [
            "i = 0:\n",
            "  j = 1: 0.000%\n",
            "  j = 2: 19.675%\n",
            "  j = 3: 1.014%\n",
            "  j = 4: 0.203%\n",
            "  j = 5: 43.205%\n",
            "  j = 6: 11.765%\n",
            "  j = 7: 4.057%\n",
            "  j = 8: 4.564%\n",
            "  j = 9: 15.010%\n",
            "i = 1:\n",
            "  j = 0: 0.000%\n",
            "  j = 2: 8.978%\n",
            "  j = 3: 20.444%\n",
            "  j = 4: 0.178%\n",
            "  j = 5: 1.689%\n",
            "  j = 6: 2.844%\n",
            "  j = 7: 30.844%\n",
            "  j = 8: 32.178%\n",
            "  j = 9: 2.044%\n",
            "i = 2:\n",
            "  j = 0: 3.604%\n",
            "  j = 1: 7.307%\n",
            "  j = 3: 49.550%\n",
            "  j = 4: 4.204%\n",
            "  j = 5: 0.601%\n",
            "  j = 6: 8.609%\n",
            "  j = 7: 7.107%\n",
            "  j = 8: 16.316%\n",
            "  j = 9: 0.400%\n",
            "i = 3:\n",
            "  j = 0: 1.176%\n",
            "  j = 1: 8.235%\n",
            "  j = 2: 12.549%\n",
            "  j = 4: 0.392%\n",
            "  j = 5: 27.647%\n",
            "  j = 6: 0.294%\n",
            "  j = 7: 6.275%\n",
            "  j = 8: 14.314%\n",
            "  j = 9: 25.784%\n",
            "i = 4:\n",
            "  j = 0: 0.615%\n",
            "  j = 1: 0.000%\n",
            "  j = 2: 6.769%\n",
            "  j = 3: 0.308%\n",
            "  j = 5: 6.359%\n",
            "  j = 6: 9.128%\n",
            "  j = 7: 14.359%\n",
            "  j = 8: 1.949%\n",
            "  j = 9: 58.359%\n",
            "i = 5:\n",
            "  j = 0: 7.317%\n",
            "  j = 1: 4.656%\n",
            "  j = 2: 1.552%\n",
            "  j = 3: 33.814%\n",
            "  j = 4: 3.880%\n",
            "  j = 6: 6.984%\n",
            "  j = 7: 1.441%\n",
            "  j = 8: 27.827%\n",
            "  j = 9: 8.980%\n",
            "i = 6:\n",
            "  j = 0: 7.536%\n",
            "  j = 1: 1.731%\n",
            "  j = 2: 50.000%\n",
            "  j = 3: 0.102%\n",
            "  j = 4: 12.627%\n",
            "  j = 5: 16.904%\n",
            "  j = 7: 0.509%\n",
            "  j = 8: 8.758%\n",
            "  j = 9: 0.509%\n",
            "i = 7:\n",
            "  j = 0: 0.768%\n",
            "  j = 1: 1.631%\n",
            "  j = 2: 10.461%\n",
            "  j = 3: 35.029%\n",
            "  j = 4: 4.607%\n",
            "  j = 5: 0.960%\n",
            "  j = 6: 0.000%\n",
            "  j = 8: 1.248%\n",
            "  j = 9: 42.994%\n",
            "i = 8:\n",
            "  j = 0: 2.154%\n",
            "  j = 1: 5.333%\n",
            "  j = 2: 16.923%\n",
            "  j = 3: 23.897%\n",
            "  j = 4: 1.949%\n",
            "  j = 5: 16.000%\n",
            "  j = 6: 6.051%\n",
            "  j = 7: 0.615%\n",
            "  j = 9: 24.513%\n",
            "i = 9:\n",
            "  j = 0: 0.905%\n",
            "  j = 1: 0.402%\n",
            "  j = 2: 0.905%\n",
            "  j = 3: 8.048%\n",
            "  j = 4: 44.869%\n",
            "  j = 5: 3.421%\n",
            "  j = 6: 0.201%\n",
            "  j = 7: 33.300%\n",
            "  j = 8: 4.829%\n"
          ]
        }
      ]
    },
    {
      "cell_type": "code",
      "metadata": {
        "id": "IllLoXxGAIIo"
      },
      "source": [
        "# For grader use only\n",
        "\n",
        "\n",
        "\n",
        "maxScore = maxScore + 40\n"
      ],
      "execution_count": 11,
      "outputs": []
    },
    {
      "cell_type": "markdown",
      "source": [
        "------------------------------\n",
        "------------------------------\n",
        "------------------------------"
      ],
      "metadata": {
        "id": "oko-ZnXEpBMc"
      }
    },
    {
      "cell_type": "markdown",
      "metadata": {
        "id": "Bescj6mdI1qq"
      },
      "source": [
        "## <font color='blue'>Question 1: Working with warm start for focused training [10 pts by 4 = 40 pts]\n",
        "\n"
      ]
    },
    {
      "cell_type": "markdown",
      "metadata": {
        "id": "xmDZTC1UI1qq"
      },
      "source": [
        "**Q1-0**. MLP classifiers in scikit-learn have an option for so-called 'warm start'. Do a bit of research to find out what it is. Then:\n",
        "\n",
        "Give an example of warm start. Specifically, in scenario 1:\n",
        "train the network for $k$ epochs (max_iter=k), and then without using warm start\n",
        "continue the training for another $k$ epochs; in scenario 2: train the network for $k$ epochs, and then using warm start\n",
        "continue the training for another $k$ epochs. Check the outputs from training, you will find the different between two scenarios.\n",
        "Here $k$ is a parameter of your choice, you can set $k=5$. [10 points]\n",
        "\n",
        "\n",
        "\n"
      ]
    },
    {
      "cell_type": "code",
      "metadata": {
        "id": "8wY3lNEgI1qq",
        "colab": {
          "base_uri": "https://localhost:8080/",
          "height": 253
        },
        "outputId": "2be1145f-55e2-4417-a58c-dd929340b15c"
      },
      "source": [
        "### Your code here. Also give some comments about your findings\n",
        "# NO WARM UP\n",
        "# Train the network for k epochs\n",
        "K=5\n",
        "mlp_mnist = MLPClassifier(hidden_layer_sizes=(50,), batch_size=30, max_iter=K, random_state=1)\n",
        "mlp_mnist.fit(X_train, y_train)\n",
        "\n",
        "# Continue the training for another k epochs\n",
        "mlp_mnist = MLPClassifier(hidden_layer_sizes=(50,), batch_size=30, max_iter=K, random_state=1)\n",
        "mlp_mnist.fit(X_train, y_train)\n",
        "\n",
        "# WARM UP\n",
        "# Train the network for k epochs\n",
        "mlp_mnist = MLPClassifier(hidden_layer_sizes=(50,), batch_size=30, max_iter=K, random_state=1, warm_start=True)\n",
        "mlp_mnist.fit(X_train, y_train)\n",
        "\n",
        "# Continue the training for another k epochs\n",
        "mlp_mnist.max_iter += K\n",
        "mlp_mnist.fit(X_train, y_train)\n"
      ],
      "execution_count": 21,
      "outputs": [
        {
          "output_type": "stream",
          "name": "stderr",
          "text": [
            "/usr/local/lib/python3.10/dist-packages/sklearn/neural_network/_multilayer_perceptron.py:686: ConvergenceWarning: Stochastic Optimizer: Maximum iterations (5) reached and the optimization hasn't converged yet.\n",
            "  warnings.warn(\n",
            "/usr/local/lib/python3.10/dist-packages/sklearn/neural_network/_multilayer_perceptron.py:686: ConvergenceWarning: Stochastic Optimizer: Maximum iterations (5) reached and the optimization hasn't converged yet.\n",
            "  warnings.warn(\n",
            "/usr/local/lib/python3.10/dist-packages/sklearn/neural_network/_multilayer_perceptron.py:686: ConvergenceWarning: Stochastic Optimizer: Maximum iterations (5) reached and the optimization hasn't converged yet.\n",
            "  warnings.warn(\n",
            "/usr/local/lib/python3.10/dist-packages/sklearn/neural_network/_multilayer_perceptron.py:686: ConvergenceWarning: Stochastic Optimizer: Maximum iterations (10) reached and the optimization hasn't converged yet.\n",
            "  warnings.warn(\n"
          ]
        },
        {
          "output_type": "execute_result",
          "data": {
            "text/plain": [
              "MLPClassifier(batch_size=30, hidden_layer_sizes=(50,), max_iter=10,\n",
              "              random_state=1, warm_start=True)"
            ],
            "text/html": [
              "<style>#sk-container-id-3 {color: black;background-color: white;}#sk-container-id-3 pre{padding: 0;}#sk-container-id-3 div.sk-toggleable {background-color: white;}#sk-container-id-3 label.sk-toggleable__label {cursor: pointer;display: block;width: 100%;margin-bottom: 0;padding: 0.3em;box-sizing: border-box;text-align: center;}#sk-container-id-3 label.sk-toggleable__label-arrow:before {content: \"▸\";float: left;margin-right: 0.25em;color: #696969;}#sk-container-id-3 label.sk-toggleable__label-arrow:hover:before {color: black;}#sk-container-id-3 div.sk-estimator:hover label.sk-toggleable__label-arrow:before {color: black;}#sk-container-id-3 div.sk-toggleable__content {max-height: 0;max-width: 0;overflow: hidden;text-align: left;background-color: #f0f8ff;}#sk-container-id-3 div.sk-toggleable__content pre {margin: 0.2em;color: black;border-radius: 0.25em;background-color: #f0f8ff;}#sk-container-id-3 input.sk-toggleable__control:checked~div.sk-toggleable__content {max-height: 200px;max-width: 100%;overflow: auto;}#sk-container-id-3 input.sk-toggleable__control:checked~label.sk-toggleable__label-arrow:before {content: \"▾\";}#sk-container-id-3 div.sk-estimator input.sk-toggleable__control:checked~label.sk-toggleable__label {background-color: #d4ebff;}#sk-container-id-3 div.sk-label input.sk-toggleable__control:checked~label.sk-toggleable__label {background-color: #d4ebff;}#sk-container-id-3 input.sk-hidden--visually {border: 0;clip: rect(1px 1px 1px 1px);clip: rect(1px, 1px, 1px, 1px);height: 1px;margin: -1px;overflow: hidden;padding: 0;position: absolute;width: 1px;}#sk-container-id-3 div.sk-estimator {font-family: monospace;background-color: #f0f8ff;border: 1px dotted black;border-radius: 0.25em;box-sizing: border-box;margin-bottom: 0.5em;}#sk-container-id-3 div.sk-estimator:hover {background-color: #d4ebff;}#sk-container-id-3 div.sk-parallel-item::after {content: \"\";width: 100%;border-bottom: 1px solid gray;flex-grow: 1;}#sk-container-id-3 div.sk-label:hover label.sk-toggleable__label {background-color: #d4ebff;}#sk-container-id-3 div.sk-serial::before {content: \"\";position: absolute;border-left: 1px solid gray;box-sizing: border-box;top: 0;bottom: 0;left: 50%;z-index: 0;}#sk-container-id-3 div.sk-serial {display: flex;flex-direction: column;align-items: center;background-color: white;padding-right: 0.2em;padding-left: 0.2em;position: relative;}#sk-container-id-3 div.sk-item {position: relative;z-index: 1;}#sk-container-id-3 div.sk-parallel {display: flex;align-items: stretch;justify-content: center;background-color: white;position: relative;}#sk-container-id-3 div.sk-item::before, #sk-container-id-3 div.sk-parallel-item::before {content: \"\";position: absolute;border-left: 1px solid gray;box-sizing: border-box;top: 0;bottom: 0;left: 50%;z-index: -1;}#sk-container-id-3 div.sk-parallel-item {display: flex;flex-direction: column;z-index: 1;position: relative;background-color: white;}#sk-container-id-3 div.sk-parallel-item:first-child::after {align-self: flex-end;width: 50%;}#sk-container-id-3 div.sk-parallel-item:last-child::after {align-self: flex-start;width: 50%;}#sk-container-id-3 div.sk-parallel-item:only-child::after {width: 0;}#sk-container-id-3 div.sk-dashed-wrapped {border: 1px dashed gray;margin: 0 0.4em 0.5em 0.4em;box-sizing: border-box;padding-bottom: 0.4em;background-color: white;}#sk-container-id-3 div.sk-label label {font-family: monospace;font-weight: bold;display: inline-block;line-height: 1.2em;}#sk-container-id-3 div.sk-label-container {text-align: center;}#sk-container-id-3 div.sk-container {/* jupyter's `normalize.less` sets `[hidden] { display: none; }` but bootstrap.min.css set `[hidden] { display: none !important; }` so we also need the `!important` here to be able to override the default hidden behavior on the sphinx rendered scikit-learn.org. See: https://github.com/scikit-learn/scikit-learn/issues/21755 */display: inline-block !important;position: relative;}#sk-container-id-3 div.sk-text-repr-fallback {display: none;}</style><div id=\"sk-container-id-3\" class=\"sk-top-container\"><div class=\"sk-text-repr-fallback\"><pre>MLPClassifier(batch_size=30, hidden_layer_sizes=(50,), max_iter=10,\n",
              "              random_state=1, warm_start=True)</pre><b>In a Jupyter environment, please rerun this cell to show the HTML representation or trust the notebook. <br />On GitHub, the HTML representation is unable to render, please try loading this page with nbviewer.org.</b></div><div class=\"sk-container\" hidden><div class=\"sk-item\"><div class=\"sk-estimator sk-toggleable\"><input class=\"sk-toggleable__control sk-hidden--visually\" id=\"sk-estimator-id-3\" type=\"checkbox\" checked><label for=\"sk-estimator-id-3\" class=\"sk-toggleable__label sk-toggleable__label-arrow\">MLPClassifier</label><div class=\"sk-toggleable__content\"><pre>MLPClassifier(batch_size=30, hidden_layer_sizes=(50,), max_iter=10,\n",
              "              random_state=1, warm_start=True)</pre></div></div></div></div></div>"
            ]
          },
          "metadata": {},
          "execution_count": 21
        }
      ]
    },
    {
      "cell_type": "markdown",
      "metadata": {
        "id": "jwK_llxsI1qq"
      },
      "source": [
        "\n",
        "The training set usally remains the same after a warm start. Here, we will use a very similar bit not identical dataset after the warm start:\n",
        "<br>\n",
        "<br>\n",
        "**Q1-1**. Randomly divide the MNIST dataset into three part: train1 (50000), train2(10000), test (10000). Make sure that all number classes are presented in both train1, and train2. Hints: use train_test_split(). [10 points]\n"
      ]
    },
    {
      "cell_type": "code",
      "source": [
        "# Evaluate the models\n",
        "accuracy_strategy1 = mlp_mnist.score(X_test, y_test)\n",
        "\n",
        "print(f\"Accuracy with Strategy 1: {accuracy_strategy1 * 100:.2f}%\")\n"
      ],
      "metadata": {
        "colab": {
          "base_uri": "https://localhost:8080/"
        },
        "id": "XoQjQL7sFV5c",
        "outputId": "e12c1792-4afb-45b4-fefa-11f09b0c1023"
      },
      "execution_count": 22,
      "outputs": [
        {
          "output_type": "stream",
          "name": "stdout",
          "text": [
            "Accuracy with Strategy 1: 96.24%\n"
          ]
        }
      ]
    },
    {
      "cell_type": "code",
      "metadata": {
        "id": "DwlNHIdcI1qq",
        "colab": {
          "base_uri": "https://localhost:8080/"
        },
        "outputId": "079ccd71-cea8-44b0-88b5-3a2ed8b10550"
      },
      "source": [
        "### Your code here. Also give some comments about your findings\n",
        "from sklearn.model_selection import train_test_split\n",
        "\n",
        "# First, split the data into train (60000) and test (10000)\n",
        "X_train, X_test, y_train, y_test = train_test_split(X, y, test_size=10000, random_state=123, stratify=y)\n",
        "\n",
        "# Then, split the train data into train1 (50000) and train2 (10000)\n",
        "X_train1, X_train2, y_train1, y_train2 = train_test_split(X_train, y_train, test_size=10000, random_state=123, stratify=y_train)\n",
        "\n",
        "print(f\"Train1 size: {X_train1.shape[0]}\")\n",
        "print(f\"Train2 size: {X_train2.shape[0]}\")\n",
        "print(f\"Test size: {X_test.shape[0]}\")\n",
        "\n",
        "\n"
      ],
      "execution_count": 23,
      "outputs": [
        {
          "output_type": "stream",
          "name": "stdout",
          "text": [
            "Train1 size: 50000\n",
            "Train2 size: 10000\n",
            "Test size: 10000\n"
          ]
        }
      ]
    },
    {
      "cell_type": "markdown",
      "metadata": {
        "id": "Qj639NWSI1qq"
      },
      "source": [
        "**Q1-2**. Use warm start and train your model using the train1 dataset for $2k$ epochs. Then, using warm start, continute the training with train2 dataset for another $2k$ epochs. [10 points]\n",
        "<br>\n",
        "<br>\n",
        "Here $k$ is the same parameter you used above. Notice that each point\n",
        "is considered $2k$ times in this training, exactly as in part 0.\n",
        "<br>\n",
        "<br>\n",
        "In effect this process of training tries spend more time learning half of the training set, and then moves to the second part of the training set to spend equal time.\n"
      ]
    },
    {
      "cell_type": "code",
      "metadata": {
        "id": "Qrr0rwxrI1qq",
        "colab": {
          "base_uri": "https://localhost:8080/",
          "height": 183
        },
        "outputId": "ea30a9ad-190a-4e1f-9e55-795454828987"
      },
      "source": [
        "### Your code here. Also give some comments about your findings\n",
        "# Train the network on train1 dataset for 2k epochs\n",
        "mlp_mnist = MLPClassifier(hidden_layer_sizes=(50,), batch_size=30, max_iter=2*K, random_state=1, warm_start=True)\n",
        "mlp_mnist.fit(X_train1, y_train1)\n",
        "\n",
        "# Continue the training on train2 dataset for another 2k epochs\n",
        "mlp_mnist.max_iter += 2*K\n",
        "mlp_mnist.fit(X_train2, y_train2)\n",
        "\n",
        "\n",
        "\n"
      ],
      "execution_count": 24,
      "outputs": [
        {
          "output_type": "stream",
          "name": "stderr",
          "text": [
            "/usr/local/lib/python3.10/dist-packages/sklearn/neural_network/_multilayer_perceptron.py:686: ConvergenceWarning: Stochastic Optimizer: Maximum iterations (10) reached and the optimization hasn't converged yet.\n",
            "  warnings.warn(\n",
            "/usr/local/lib/python3.10/dist-packages/sklearn/neural_network/_multilayer_perceptron.py:686: ConvergenceWarning: Stochastic Optimizer: Maximum iterations (20) reached and the optimization hasn't converged yet.\n",
            "  warnings.warn(\n"
          ]
        },
        {
          "output_type": "execute_result",
          "data": {
            "text/plain": [
              "MLPClassifier(batch_size=30, hidden_layer_sizes=(50,), max_iter=20,\n",
              "              random_state=1, warm_start=True)"
            ],
            "text/html": [
              "<style>#sk-container-id-4 {color: black;background-color: white;}#sk-container-id-4 pre{padding: 0;}#sk-container-id-4 div.sk-toggleable {background-color: white;}#sk-container-id-4 label.sk-toggleable__label {cursor: pointer;display: block;width: 100%;margin-bottom: 0;padding: 0.3em;box-sizing: border-box;text-align: center;}#sk-container-id-4 label.sk-toggleable__label-arrow:before {content: \"▸\";float: left;margin-right: 0.25em;color: #696969;}#sk-container-id-4 label.sk-toggleable__label-arrow:hover:before {color: black;}#sk-container-id-4 div.sk-estimator:hover label.sk-toggleable__label-arrow:before {color: black;}#sk-container-id-4 div.sk-toggleable__content {max-height: 0;max-width: 0;overflow: hidden;text-align: left;background-color: #f0f8ff;}#sk-container-id-4 div.sk-toggleable__content pre {margin: 0.2em;color: black;border-radius: 0.25em;background-color: #f0f8ff;}#sk-container-id-4 input.sk-toggleable__control:checked~div.sk-toggleable__content {max-height: 200px;max-width: 100%;overflow: auto;}#sk-container-id-4 input.sk-toggleable__control:checked~label.sk-toggleable__label-arrow:before {content: \"▾\";}#sk-container-id-4 div.sk-estimator input.sk-toggleable__control:checked~label.sk-toggleable__label {background-color: #d4ebff;}#sk-container-id-4 div.sk-label input.sk-toggleable__control:checked~label.sk-toggleable__label {background-color: #d4ebff;}#sk-container-id-4 input.sk-hidden--visually {border: 0;clip: rect(1px 1px 1px 1px);clip: rect(1px, 1px, 1px, 1px);height: 1px;margin: -1px;overflow: hidden;padding: 0;position: absolute;width: 1px;}#sk-container-id-4 div.sk-estimator {font-family: monospace;background-color: #f0f8ff;border: 1px dotted black;border-radius: 0.25em;box-sizing: border-box;margin-bottom: 0.5em;}#sk-container-id-4 div.sk-estimator:hover {background-color: #d4ebff;}#sk-container-id-4 div.sk-parallel-item::after {content: \"\";width: 100%;border-bottom: 1px solid gray;flex-grow: 1;}#sk-container-id-4 div.sk-label:hover label.sk-toggleable__label {background-color: #d4ebff;}#sk-container-id-4 div.sk-serial::before {content: \"\";position: absolute;border-left: 1px solid gray;box-sizing: border-box;top: 0;bottom: 0;left: 50%;z-index: 0;}#sk-container-id-4 div.sk-serial {display: flex;flex-direction: column;align-items: center;background-color: white;padding-right: 0.2em;padding-left: 0.2em;position: relative;}#sk-container-id-4 div.sk-item {position: relative;z-index: 1;}#sk-container-id-4 div.sk-parallel {display: flex;align-items: stretch;justify-content: center;background-color: white;position: relative;}#sk-container-id-4 div.sk-item::before, #sk-container-id-4 div.sk-parallel-item::before {content: \"\";position: absolute;border-left: 1px solid gray;box-sizing: border-box;top: 0;bottom: 0;left: 50%;z-index: -1;}#sk-container-id-4 div.sk-parallel-item {display: flex;flex-direction: column;z-index: 1;position: relative;background-color: white;}#sk-container-id-4 div.sk-parallel-item:first-child::after {align-self: flex-end;width: 50%;}#sk-container-id-4 div.sk-parallel-item:last-child::after {align-self: flex-start;width: 50%;}#sk-container-id-4 div.sk-parallel-item:only-child::after {width: 0;}#sk-container-id-4 div.sk-dashed-wrapped {border: 1px dashed gray;margin: 0 0.4em 0.5em 0.4em;box-sizing: border-box;padding-bottom: 0.4em;background-color: white;}#sk-container-id-4 div.sk-label label {font-family: monospace;font-weight: bold;display: inline-block;line-height: 1.2em;}#sk-container-id-4 div.sk-label-container {text-align: center;}#sk-container-id-4 div.sk-container {/* jupyter's `normalize.less` sets `[hidden] { display: none; }` but bootstrap.min.css set `[hidden] { display: none !important; }` so we also need the `!important` here to be able to override the default hidden behavior on the sphinx rendered scikit-learn.org. See: https://github.com/scikit-learn/scikit-learn/issues/21755 */display: inline-block !important;position: relative;}#sk-container-id-4 div.sk-text-repr-fallback {display: none;}</style><div id=\"sk-container-id-4\" class=\"sk-top-container\"><div class=\"sk-text-repr-fallback\"><pre>MLPClassifier(batch_size=30, hidden_layer_sizes=(50,), max_iter=20,\n",
              "              random_state=1, warm_start=True)</pre><b>In a Jupyter environment, please rerun this cell to show the HTML representation or trust the notebook. <br />On GitHub, the HTML representation is unable to render, please try loading this page with nbviewer.org.</b></div><div class=\"sk-container\" hidden><div class=\"sk-item\"><div class=\"sk-estimator sk-toggleable\"><input class=\"sk-toggleable__control sk-hidden--visually\" id=\"sk-estimator-id-4\" type=\"checkbox\" checked><label for=\"sk-estimator-id-4\" class=\"sk-toggleable__label sk-toggleable__label-arrow\">MLPClassifier</label><div class=\"sk-toggleable__content\"><pre>MLPClassifier(batch_size=30, hidden_layer_sizes=(50,), max_iter=20,\n",
              "              random_state=1, warm_start=True)</pre></div></div></div></div></div>"
            ]
          },
          "metadata": {},
          "execution_count": 24
        }
      ]
    },
    {
      "cell_type": "code",
      "source": [
        "# Evaluate the models\n",
        "accuracy_strategy2 = mlp_mnist.score(X_test, y_test)\n",
        "\n",
        "print(f\"Accuracy with Strategy 2: {accuracy_strategy2 * 100:.2f}%\")\n"
      ],
      "metadata": {
        "colab": {
          "base_uri": "https://localhost:8080/"
        },
        "id": "TlMSHjl5FdAT",
        "outputId": "33f0f534-0cad-4e6d-d2ac-b394a1686001"
      },
      "execution_count": 25,
      "outputs": [
        {
          "output_type": "stream",
          "name": "stdout",
          "text": [
            "Accuracy with Strategy 2: 95.33%\n"
          ]
        }
      ]
    },
    {
      "cell_type": "markdown",
      "metadata": {
        "id": "IVOatk-gVU4O"
      },
      "source": [
        "**Q1-3**. Which of the two above strategies\n",
        "works better? (Q1-0 or Q1-2). Feel free to experiment and report your findings.\n",
        " [10 pts]\n",
        "\n",
        " Strategy 1 is works better. Strategy 1 has an accuracy of 96.24% and stratergy 2 has a 95.33% so strategy 1 has a .48% increase in accuracy."
      ]
    },
    {
      "cell_type": "code",
      "metadata": {
        "id": "5r9YkG3xsS5l"
      },
      "source": [
        "# For grader use only\n",
        "\n",
        "maxScore = maxScore + 40\n"
      ],
      "execution_count": 15,
      "outputs": []
    },
    {
      "cell_type": "markdown",
      "source": [
        "--------------------------\n",
        "--------------------------\n",
        "--------------------------"
      ],
      "metadata": {
        "id": "AgUw1wklsZOi"
      }
    },
    {
      "cell_type": "markdown",
      "metadata": {
        "id": "RBaZ0tdBVvDT"
      },
      "source": [
        "##  <font color='blue'> Q2. How Powerful are Neural Networks? [20 pts]\n",
        "\n",
        "There is a lot of hype around Neural Networks, and their ability to solver problems. This is of course justified, but we should always be aware of their limitations.\n"
      ]
    },
    {
      "cell_type": "markdown",
      "metadata": {
        "id": "yrCrmP4tWnGx"
      },
      "source": [
        "Recall that every row in the matrix $X$  above comes from an image. Every entry of a row corresponds to a (grayscale) pixel. In particular, the first colum of $X$ contains the grayscale values of the first pixels of the images in the data set.\n",
        "<br>\n",
        "<br>\n",
        "We will now 'hide' the label of the image, inside the image itself.\n",
        "Here is one way to do that: Replace the top-left pixel of the image (which is a value from 0 to 255) with the label for that image. For example, if the image\n",
        "contains number 3, then the first pixel of the image will now be set to 3. (In fact, let's set this to 3/255 because we already divided all pixel values by 255)."
      ]
    },
    {
      "cell_type": "markdown",
      "metadata": {
        "id": "dI8SbkQ2Xh6b"
      },
      "source": [
        "**Q2-0.** Create a new dataset $X1$, where each row is the same as the corresponding row of $X$, except in the first column, which contains the label of the corresponding image, divided by 255. Then split\n",
        "the set $X1$ into a training set and a test set, as we did with $X$. [10 pts]\n",
        "\n",
        "Hints: make a copy of X and work on the copy data: X1 = X.copy()\n",
        "\n",
        "\n"
      ]
    },
    {
      "cell_type": "code",
      "metadata": {
        "id": "nxGaaYSbZc3y",
        "colab": {
          "base_uri": "https://localhost:8080/"
        },
        "outputId": "976ec29c-f350-4189-a34a-d6ce9c31f990"
      },
      "source": [
        "# Make a copy of X\n",
        "X1 = X.copy()\n",
        "\n",
        "# Replace the first column with the label of the corresponding image, divided by 255\n",
        "X1.iloc[:, 0] = y / 255.\n",
        "\n",
        "# Split the data into a training set and a test set\n",
        "X1_train, X1_test, y1_train, y1_test = train_test_split(X1, y, test_size=10000, random_state=123, stratify=y)\n",
        "\n",
        "print(f\"X1_train size: {X1_train.shape[0]}\")\n",
        "print(f\"X1_test size: {X1_test.shape[0]}\")\n"
      ],
      "execution_count": 16,
      "outputs": [
        {
          "output_type": "stream",
          "name": "stdout",
          "text": [
            "X1_train size: 60000\n",
            "X1_test size: 10000\n"
          ]
        }
      ]
    },
    {
      "cell_type": "markdown",
      "metadata": {
        "id": "zDmOC16kZgqM"
      },
      "source": [
        "**Q2-1.** With the label of the image 'planted' in the image itself, a Neural Network can achieve accuracy 100%. This is because all the weights connecting to pixels $2...28^2$ can be set to 0, and so effectively the only feature that will be taken into account is the first pixel. The question is whether an MLP can indeed 'discover' this weighting via training. [10 pts]\n",
        "<br>\n",
        "<br>\n",
        "Use an MLP classifier  with one hidden layer of any size you want. Train it on $X1$ and report the accuracy. Does it reach 100\\%? Is the accuracy better relative to training with the original input $X$?\n",
        "\n",
        "\n"
      ]
    },
    {
      "cell_type": "code",
      "metadata": {
        "id": "fydXo8GRGkbp",
        "colab": {
          "base_uri": "https://localhost:8080/"
        },
        "outputId": "3a4cd1bd-5435-4ec0-8b0f-5deb567ce440"
      },
      "source": [
        "# for grader use\n",
        "from sklearn.metrics import accuracy_score\n",
        "\n",
        "# Define the MLP classifier\n",
        "mlp_mnist_X1 = MLPClassifier(hidden_layer_sizes=(50,), batch_size=30, max_iter=2*K, random_state=1)\n",
        "\n",
        "# Train the classifier on the X1_train dataset\n",
        "mlp_mnist_X1.fit(X1_train, y1_train)\n",
        "\n",
        "# Make predictions on the X1_test dataset\n",
        "predictions_X1 = mlp_mnist_X1.predict(X1_test)\n",
        "\n",
        "# Calculate the accuracy\n",
        "accuracy_X1 = accuracy_score(y1_test, predictions_X1)\n",
        "print(f\"Accuracy with X1: {accuracy_X1 * 100:.2f}%\")\n",
        "\n",
        "\n",
        "# Define the MLP classifier\n",
        "mlp_mnist_X = MLPClassifier(hidden_layer_sizes=(50,), batch_size=30, max_iter=2*K, random_state=1)\n",
        "\n",
        "# Train the classifier on the X_train dataset\n",
        "mlp_mnist_X.fit(X_train, y_train)\n",
        "\n",
        "# Make predictions on the X_test dataset\n",
        "predictions_X = mlp_mnist_X.predict(X_test)\n",
        "\n",
        "# Calculate the accuracy\n",
        "accuracy_X = accuracy_score(y_test, predictions_X)\n",
        "print(f\"Accuracy with X: {accuracy_X * 100:.2f}%\")\n",
        "\n",
        "\n",
        "#The accuracy doesn't quite hit 100%, instead is 95.33%.\n",
        "#This is a .43% decrease from the original X making X better than X1\n",
        "\n",
        "# Total Grade Calculation\n",
        "\n",
        "maxScore = maxScore + 20\n",
        "#score = actualScore*100/maxScore"
      ],
      "execution_count": 17,
      "outputs": [
        {
          "output_type": "stream",
          "name": "stderr",
          "text": [
            "/usr/local/lib/python3.10/dist-packages/sklearn/neural_network/_multilayer_perceptron.py:686: ConvergenceWarning: Stochastic Optimizer: Maximum iterations (10) reached and the optimization hasn't converged yet.\n",
            "  warnings.warn(\n"
          ]
        },
        {
          "output_type": "stream",
          "name": "stdout",
          "text": [
            "Accuracy with X1: 95.33%\n",
            "Accuracy with X: 95.76%\n"
          ]
        },
        {
          "output_type": "stream",
          "name": "stderr",
          "text": [
            "/usr/local/lib/python3.10/dist-packages/sklearn/neural_network/_multilayer_perceptron.py:686: ConvergenceWarning: Stochastic Optimizer: Maximum iterations (10) reached and the optimization hasn't converged yet.\n",
            "  warnings.warn(\n"
          ]
        }
      ]
    }
  ]
}