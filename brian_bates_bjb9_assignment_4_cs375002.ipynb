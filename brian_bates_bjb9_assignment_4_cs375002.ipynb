{
  "nbformat": 4,
  "nbformat_minor": 0,
  "metadata": {
    "kernelspec": {
      "display_name": "Python 3",
      "language": "python",
      "name": "python3"
    },
    "language_info": {
      "codemirror_mode": {
        "name": "ipython",
        "version": 3
      },
      "file_extension": ".py",
      "mimetype": "text/x-python",
      "name": "python",
      "nbconvert_exporter": "python",
      "pygments_lexer": "ipython3",
      "version": "3.7.4"
    },
    "colab": {
      "provenance": []
    }
  },
  "cells": [
    {
      "cell_type": "markdown",
      "metadata": {
        "id": "Tajfsk_7JY3E"
      },
      "source": [
        "**Note to grader:** Each question is assigned with a score. The final score will be (sum of actual scores)/(sum of maximum scores)*100. The grading rubrics are shown in the TA guidelines."
      ]
    },
    {
      "cell_type": "markdown",
      "metadata": {
        "id": "SArgW_Vq-uTh"
      },
      "source": [
        "# **Assignment 4**\n",
        "\n",
        "The goal of this assignment is to run some experiments with scikit-learn on a fairly sizeable and interesting image data set. This is the MNIST data set that consists of lots of images, each having 28x28 pixels. By today's standards, this may seem relatively tiny, but only a few years ago was quite challenging computationally, and it motivated the development of several ML algorithms and models that are now state-of-the-art  solutions for much bigger data sets.\n",
        "\n",
        "The assignment is experimental. We will try to whether a combination of PCA and kNN can yield any good results for the MNIST data set. Let's see if it can be made to work on this data set.\n",
        "\n",
        "Note: There are less difficult Python parts in this assignment. You can get things done by just repeating things from the class notebooks. But your participation and interaction via Canvas is always appreciated!"
      ]
    },
    {
      "cell_type": "markdown",
      "metadata": {
        "id": "IlFM4hig-uTj"
      },
      "source": [
        "## Preparation Steps"
      ]
    },
    {
      "cell_type": "code",
      "metadata": {
        "id": "E3alYkjM-uTk"
      },
      "source": [
        "# Import all necessary python packages\n",
        "import numpy as np\n",
        "#import os\n",
        "#import pandas as pd\n",
        "#import matplotlib.pyplot as plt\n",
        "#from matplotlib.colors import ListedColormap\n",
        "#from sklearn.linear_model import LogisticRegression"
      ],
      "execution_count": 10,
      "outputs": []
    },
    {
      "cell_type": "code",
      "metadata": {
        "id": "4JEBC9tZEZel",
        "colab": {
          "base_uri": "https://localhost:8080/"
        },
        "outputId": "542e352d-38eb-4fcf-b36f-8dbc74b73ceb"
      },
      "source": [
        "# we load the data set directly from scikit learn\n",
        "#\n",
        "# note: this operation may take a few seconds. If for any reason it fails we\n",
        "# can revert back to loading from local storage.\n",
        "\n",
        "from sklearn.datasets import fetch_openml\n",
        "from sklearn.model_selection import train_test_split\n",
        "\n",
        "\n",
        "X, y = fetch_openml('mnist_784', version=1, return_X_y=True)\n",
        "y = y.astype(int)\n",
        "X = ((X / 255.) - .5) * 2\n",
        "X_train, X_test, y_train, y_test = train_test_split(\n",
        "    X, y, test_size=10000, random_state=123, stratify=y)\n"
      ],
      "execution_count": 11,
      "outputs": [
        {
          "output_type": "stream",
          "name": "stderr",
          "text": [
            "/usr/local/lib/python3.10/dist-packages/sklearn/datasets/_openml.py:968: FutureWarning: The default value of `parser` will change from `'liac-arff'` to `'auto'` in 1.4. You can set `parser='auto'` to silence this warning. Therefore, an `ImportError` will be raised from 1.4 if the dataset is dense and pandas is not installed. Note that the pandas parser may return different data types. See the Notes Section in fetch_openml's API doc for details.\n",
            "  warn(\n"
          ]
        }
      ]
    },
    {
      "cell_type": "markdown",
      "metadata": {
        "id": "GfrfDK0P-uT5"
      },
      "source": [
        "## <font color = 'blue'> Question 1. Inspecting the Dataset （50 pts = 10 pts by 5 questions)</font>\n",
        "\n",
        "**(i)** How many data points are in the training and test sets ? <br>\n",
        "**(ii)** How many attributes does the data set have ?\n",
        "\n",
        "Exlain how you found the answer to the first two questions.\n",
        "\n",
        "[**Hint**: Use the 'shape' method associated with numpy arrays. ]\n",
        "\n",
        "**(iii)** How many different labels does this data set have. Can you demonsrate how to read that number from the vector of labels *y_train*?  <br>\n",
        "**(iv)** How does the number of attributes relates to the size of the images? <br>\n",
        "**(v)** What is the role of line 12 (X = ((X / 255.) - .5) * 2) in the above code?\n",
        "\n",
        "\n",
        "\n",
        "\n",
        "\n",
        "*(Please insert cells below for your answers. Clearly id the part of the question you answer)*"
      ]
    },
    {
      "cell_type": "code",
      "metadata": {
        "id": "4po5m-tq-uT6",
        "colab": {
          "base_uri": "https://localhost:8080/"
        },
        "outputId": "494e4de4-3549-47e5-bacc-e484b078539a"
      },
      "source": [
        "print(\"Answer to question 1:\")\n",
        "print(\"Number of training data points: \", X_train.shape[0])\n",
        "print(\"Number of test data points: \", X_test.shape[0])\n",
        "print(\"\")\n",
        "\n",
        "print(\"Answer to question 2:\")\n",
        "print(\"Number of attributes: \", X_train.shape[1])\n",
        "print(\"\")\n",
        "\n",
        "print(\"Answer to question 3:\")\n",
        "print(\"The number of different labels in the data set is 10\")\n",
        "print(\"Here is how you can read that number from the vector of labels y_train:\")\n",
        "print(\"Number of unique labels: \", len(np.unique(y_train)))\n",
        "print(\"\")\n",
        "\n",
        "print(\"Answer to question 4:\")\n",
        "print(\"The number of attributes relates to the size of the images because each attribute represents a pixel in the image.\")\n",
        "print(\"The images are 28x28 pixels, and therefore have 784 attributes.\")\n",
        "print(\"\")\n",
        "\n",
        "print(\"Answer to question 5:\")\n",
        "print(\"The line X = ((X / 255.) - .5) * 2 is normalizing the pixel values.\")\n",
        "print(\"The original pixel values, which are integers in the range 0-255, are first scaled down to the range 0-1 by dividing by 255.\")\n",
        "print(\"Then they are shifted to the range -0.5 to 0.5 by subtracting 0.5. Finally, they are scaled to the range -1 to 1 by multiplying by 2. \")\n",
        "print(\"This kind of normalization can help the learning algorithm converge faster.\")"
      ],
      "execution_count": 12,
      "outputs": [
        {
          "output_type": "stream",
          "name": "stdout",
          "text": [
            "Answer to question 1:\n",
            "Number of training data points:  60000\n",
            "Number of test data points:  10000\n",
            "\n",
            "Answer to question 2:\n",
            "Number of attributes:  784\n",
            "\n",
            "Answer to question 3:\n",
            "The number of different labels in the data set is 10\n",
            "Here is how you can read that number from the vector of labels y_train:\n",
            "Number of unique labels:  10\n",
            "\n",
            "Answer to question 4:\n",
            "The number of attributes relates to the size of the images because each attribute represents a pixel in the image.\n",
            "The images are 28x28 pixels, and therefore have 784 attributes.\n",
            "\n",
            "Answer to question 5:\n",
            "The line X = ((X / 255.) - .5) * 2 is normalizing the pixel values.\n",
            "The original pixel values, which are integers in the range 0-255, are first scaled down to the range 0-1 by dividing by 255.\n",
            "Then they are shifted to the range -0.5 to 0.5 by subtracting 0.5. Finally, they are scaled to the range -1 to 1 by multiplying by 2. \n",
            "This kind of normalization can help the learning algorithm converge faster.\n"
          ]
        }
      ]
    },
    {
      "cell_type": "code",
      "metadata": {
        "id": "IllLoXxGAIIo"
      },
      "source": [
        "# For grader use only\n",
        "# maxScore = maxScore + 50\n"
      ],
      "execution_count": 13,
      "outputs": []
    },
    {
      "cell_type": "markdown",
      "metadata": {
        "id": "YMEcdAp3-uT-"
      },
      "source": [
        "##  <font color = 'blue'> Question 2. PCA on MNIST (10 pts) </font>\n",
        "\n",
        "Because the number of attributes of the MNIST data set may be too big to apply kNN on it (due to the 'curse of dimensionality'), we want to compress the images down to a smaller number of 'fake' attributes.\n",
        "\n",
        "Use scikit-learn to output a data set *X_train_transformed* and *X_test_transformed*, with $l$ attributes. Here a reasonable choice of $l$ is 10, equal to the number of labels. But you can try slightly smaller or bigger values as well.\n",
        "\n",
        "Print out the shape of *X_train_transformed* and *X_test_transformed*.\n",
        "\n",
        "\n",
        "**Hint**: Take a look at [this notebook](https://colab.research.google.com/drive/1DG5PjWejo8F7AhozHxj8329SuMtXZ874?usp=drive_fs), and imitate what we did there. Be careful though, to use only the scikit-learn demonstration, not the exhaustive PCA steps.\n",
        "\n",
        "**Note**: This computation can take a while. If problems are encountered we can try the same experiment on a downsized data set."
      ]
    },
    {
      "cell_type": "markdown",
      "metadata": {
        "id": "a0ek4Ry_-uT_"
      },
      "source": []
    },
    {
      "cell_type": "code",
      "source": [
        "from sklearn.decomposition import PCA\n",
        "\n",
        "# number of components to keep\n",
        "n_components = 10\n",
        "\n",
        "pca = PCA(n_components=n_components)\n",
        "X_train_transformed = pca.fit_transform(X_train)\n",
        "X_test_transformed = pca.transform(X_test)\n",
        "\n",
        "print(\"Shape of X_train_transformed: \", X_train_transformed.shape)\n",
        "print(\"Shape of X_test_transformed: \", X_test_transformed.shape)\n"
      ],
      "metadata": {
        "colab": {
          "base_uri": "https://localhost:8080/"
        },
        "id": "JdjCVdCn7d_E",
        "outputId": "824f1253-42d6-4887-f0fd-f1f73b5163a7"
      },
      "execution_count": 14,
      "outputs": [
        {
          "output_type": "stream",
          "name": "stdout",
          "text": [
            "Shape of X_train_transformed:  (60000, 10)\n",
            "Shape of X_test_transformed:  (10000, 10)\n"
          ]
        }
      ]
    },
    {
      "cell_type": "code",
      "metadata": {
        "id": "sBjMZF1wGaUp"
      },
      "source": [
        "# for grader use\n",
        "# maxScore = maxScore + 10\n",
        "\n"
      ],
      "execution_count": 15,
      "outputs": []
    },
    {
      "cell_type": "markdown",
      "metadata": {
        "id": "Pe9kKR3J-uUA"
      },
      "source": [
        "## <font color = 'blue'> Question 3. kNN on MNIST attributes from PCA （40 pts = 10 pts by 4 questions) </font>\n",
        "\n",
        "\n",
        "Having calculated the *transformed* MNIST data set we can now apply a kNN approach to the MNIST classification data set. Here are the sets:\n",
        "\n",
        "(i) Fit a $k$-NN classifier on the transformed data set. Here $k$ is a hyperparameter, and you can experiment with it. Be aware though, that larger $k$ can take more time to fit.\n",
        "\n",
        "(ii) Apply the classifier on the transformed test set. What is the classification accuracy?\n",
        "\n",
        "(iii) Experiment with different settings of $k$. Experiment design: calculates accuracy for increasing values of k; stops when k decreases for 5 values of k; report your findings in a separate cell.\n",
        "\n",
        "[**Hint**: Take a look at this [notebook](https://colab.research.google.com/drive/1Mh6I3bR8pE90kcs28JfKok59NtfV_7ct?usp=drive_fs)]\n"
      ]
    },
    {
      "cell_type": "code",
      "metadata": {
        "id": "5v7Q2NKp-uUM",
        "colab": {
          "base_uri": "https://localhost:8080/"
        },
        "outputId": "7d02ed23-1760-49de-cd92-e7e4b37f03a1"
      },
      "source": [
        "from sklearn.neighbors import KNeighborsClassifier\n",
        "from sklearn.metrics import accuracy_score\n",
        "\n",
        "# Initialize the classifier\n",
        "knn = KNeighborsClassifier(n_neighbors=3)  # start with k=3\n",
        "\n",
        "# Fit the model\n",
        "knn.fit(X_train_transformed, y_train)\n",
        "\n",
        "# Predict the labels for the test set\n",
        "y_pred = knn.predict(X_test_transformed)\n",
        "\n",
        "# Calculate the accuracy of the model\n",
        "accuracy = accuracy_score(y_test, y_pred)\n",
        "print(\"Accuracy with k=3: \", accuracy)\n",
        "\n",
        "# Experiment with different values of k\n",
        "k_values = [1, 2, 3, 4, 5, 6, 7, 8, 9, 10]\n",
        "accuracies = []\n",
        "\n",
        "for k in k_values:\n",
        "    knn = KNeighborsClassifier(n_neighbors=k)\n",
        "    knn.fit(X_train_transformed, y_train)\n",
        "    y_pred = knn.predict(X_test_transformed)\n",
        "    accuracy = accuracy_score(y_test, y_pred)\n",
        "    accuracies.append(accuracy)\n",
        "    print(f\"Accuracy with k={k}: {accuracy}\")\n",
        "\n",
        "# Stop when accuracy decreases for 5 consecutive k values\n",
        "for i in range(5, len(accuracies)):\n",
        "    if all(earlier > later for earlier, later in zip(accuracies[i-5:i-1], accuracies[i-4:i])):\n",
        "        print(f\"Stopped experimenting at k={k_values[i]} as the accuracy decreased for 5 consecutive k values.\")\n",
        "        break\n"
      ],
      "execution_count": 16,
      "outputs": [
        {
          "output_type": "stream",
          "name": "stdout",
          "text": [
            "Accuracy with k=3:  0.9321\n",
            "Accuracy with k=1: 0.9185\n",
            "Accuracy with k=2: 0.9146\n",
            "Accuracy with k=3: 0.9321\n",
            "Accuracy with k=4: 0.9314\n",
            "Accuracy with k=5: 0.9347\n",
            "Accuracy with k=6: 0.9327\n",
            "Accuracy with k=7: 0.9343\n",
            "Accuracy with k=8: 0.9331\n",
            "Accuracy with k=9: 0.9345\n",
            "Accuracy with k=10: 0.9331\n"
          ]
        }
      ]
    },
    {
      "cell_type": "code",
      "metadata": {
        "id": "NuYcPkCaGe9p"
      },
      "source": [
        "# for grader use\n",
        "#maxScore = maxScore + 40\n",
        "\n"
      ],
      "execution_count": 17,
      "outputs": []
    },
    {
      "cell_type": "code",
      "metadata": {
        "id": "fydXo8GRGkbp"
      },
      "source": [
        "# for grader use\n",
        "\n",
        "#score = actualScore*100/maxScore"
      ],
      "execution_count": 18,
      "outputs": []
    }
  ]
}